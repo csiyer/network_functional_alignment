{
 "cells": [
  {
   "cell_type": "markdown",
   "metadata": {},
   "source": [
    "To-do:\n",
    "- Run connectivity on 5 rest subjects (adjust parallelization as needed)\n",
    "- Assess reliability (permutation tests if not obvious)\n",
    "- Run averaging and SRM code\n",
    "- Figure out task decoding and write task_decoding.py\n",
    "\n",
    "\n",
    "To think about:\n",
    "- Searchlights instead of parcels as connectivity targets, or as SRM boundaries\n",
    "- Distance as SRM penalty instead of parcelwise\n",
    "- DiFuMo atlas instead of Schaefer?\n",
    "- Reliability.py: permutation tests?\n",
    "- Write task_decoding.py"
   ]
  },
  {
   "cell_type": "code",
   "execution_count": 7,
   "metadata": {},
   "outputs": [],
   "source": [
    "import glob\n",
    "import numpy as np\n",
    "import nibabel as nib\n",
    "from nilearn import datasets\n",
    "from nilearn.image import resample_img, math_img\n",
    "from nilearn.maskers import NiftiMasker, NiftiLabelsMasker\n",
    "from joblib import Parallel, delayed\n",
    "from math import tanh"
   ]
  },
  {
   "cell_type": "code",
   "execution_count": 2,
   "metadata": {},
   "outputs": [],
   "source": [
    "from sherlock.sherlock_connectivity import load_data_one_session, get_parcellation, compute_fc_one_session"
   ]
  },
  {
   "cell_type": "code",
   "execution_count": 3,
   "metadata": {},
   "outputs": [
    {
     "name": "stderr",
     "output_type": "stream",
     "text": [
      "c:\\Users\\ciyer\\miniconda3\\envs\\lab\\Lib\\site-packages\\joblib\\memory.py:349: FutureWarning: The default strategy for standardize is currently 'zscore' which incorrectly uses population std to calculate sample zscores. The new strategy 'zscore_sample' corrects this behavior by using the sample std. In release 0.13, the default strategy will be replaced by the new strategy and the 'zscore' option will be removed. Please use 'zscore_sample' instead.\n",
      "  return self.func(*args, **kwargs)\n"
     ]
    }
   ],
   "source": [
    "f = 'data/rest/sub-s03_ses-02_task-rest_run-1_space-MNI_desc-optcomDenoised_bold.nii.gz'\n",
    "c = 'data/confounds/sub-s03_ses-02_task-rest_run-1_desc-confounds_timeseries.tsv'\n",
    "\n",
    "\n",
    "parcel_labels, parcel_map, parcel_mask = get_parcellation(schaefer_n_rois = 400, resample_target = nib.load(f)) \n",
    "voxel_data, parcel_data = load_data_one_session(f,c, parcel_labels, parcel_map, parcel_mask)"
   ]
  },
  {
   "cell_type": "code",
   "execution_count": 4,
   "metadata": {},
   "outputs": [],
   "source": [
    "# TO-DO!!!\n",
    "\n",
    "# 1. make it faster\n",
    "# 2. exclude ones already done\n",
    "# 3. run it again"
   ]
  },
  {
   "cell_type": "code",
   "execution_count": 16,
   "metadata": {},
   "outputs": [],
   "source": [
    "vtest = voxel_data[:, 0:10000]\n",
    "ptest = parcel_data[:, 0:400]"
   ]
  },
  {
   "cell_type": "code",
   "execution_count": 55,
   "metadata": {},
   "outputs": [
    {
     "name": "stdout",
     "output_type": "stream",
     "text": [
      "[]\n",
      "[40919 40941 40963 40964 42814 42815 42834 42835 42855 42856 42880 42931\n",
      " 42957 42982 42983 43009 44652 44672 44673 44696 44697 44698 44720 44721\n",
      " 44722 44742 44743 44763 44764 44784 48227 48239 48253 49879 49891 49902\n",
      " 51661 51677 51693 51709 51710 53704 53724 53743 56058 56089 56120 58702\n",
      " 58703 58739 58740 58741 58777 61376 61412 61449 63799 63831 63895 65666\n",
      " 65683 65730 67433 67463 69677 69678 69712 69748 69749 72291 72363 75014\n",
      " 75047 77600]\n",
      "[]\n",
      "[]\n",
      "[42957 51709 51727 51745 58702 61376 61412 61413 67387 69642 69643 69748\n",
      " 75110 75147]\n",
      "[]\n",
      "[39109 41114 42815 42835 42856 42880 42931 42957 42982 42983 42984 43009\n",
      " 43010 43035 43036 44652 44672 44673 44696 44697 44698 44720 44721 44722\n",
      " 44742 44743 44763 44764 44784 48239 48240 48253 48254 48267 48280 48292\n",
      " 49868 49924 49936 49950 51693 51694 51709 51710 51711 51727 51745 51761\n",
      " 51780 53804 54033 61342 63830 67387 67410 69642 69643 69677 69748 69785\n",
      " 72256 72291 72327 72363 72400 72401 75014 75047 75077]\n",
      "[]\n",
      "[]\n",
      "[42931 42957 43009 43035 44742 44743 44763 44764 44784 48195 48206 48217\n",
      " 48227 48228 48239 48240 48241 48253 48254 48255 48267 48268 48280 48281\n",
      " 49846 49857 49868 49879 49880 49891 49892 49902 49903 49904 49912 49913\n",
      " 49914 49924 49926 51693 51709 51710 51727 51728 51745 51746 51761 51762\n",
      " 51779 51780 51798 51799 53685 53970 54002 54033 56029 56058 56059 58668\n",
      " 58702 58703 58739 58777 58814 61342 61376 61377 61412 61449 61486 61487\n",
      " 63830 63895 63930 65730 65758 67387 67410 67433 67463 67494 69642 69677\n",
      " 69712 69748 69749 69785 69786 72256 72291 72327 72363 72400 72401 72991\n",
      " 75014 75047 75077 75602 75751 77577 77600]\n",
      "[]\n",
      "[]\n",
      "[]\n",
      "[]\n",
      "[]\n",
      "[]\n",
      "[]\n",
      "[]\n",
      "[]\n",
      "[]\n",
      "[]\n",
      "[]\n",
      "[]\n",
      "[]\n",
      "[]\n",
      "[]\n",
      "[41032 51709 51727 51745 51761 53704 53724 53743 53763 53826 53851 53876\n",
      " 56058 56089 56120 58702 58739 58777 61376 61412 61449 61486 61525 63895\n",
      " 65730 65731 67410 67433 67434 67463 67464 69642 69643 69677 69678 69712\n",
      " 69713 69748 69749 69750 69785 69823 72256 72257 72291 72292 72327 72328\n",
      " 72363 72364 72400 72438 74982 74983 75014 75015 75047 75048 75110 77578\n",
      " 88166 91801]\n",
      "[51645 51661 51677 51693 51709 51710 53704 61376 67433 69642 69677 69712\n",
      " 69785 72400 91776 91801]\n",
      "[27050 27084 29296 29328 31495 33533 39174 39195 39222 41009 41032 41033\n",
      " 41060 41087 42877 42905 42931 42957 44672 44696 44697 44720 44721 44742\n",
      " 44763 49833 49846 49847 49857 49868 51628 51645 51661 51677 51678 51679\n",
      " 51693 51709 51710 53660 53661 53686 53704 53724 53743 53763 53783 53804\n",
      " 53805 56000 56029 56030 56058 56089 58600 58601 58602 58633 58668 58669\n",
      " 58702 58739 58777 61276 61277 61309 61342 61343 61376 61412 63740 63768\n",
      " 67362 67387 67388 67433 69578 69610 69611 69642 69643 69644 69677 69712\n",
      " 69748 69785 72256 72257 72258 72291 72327 72400 74982 75014 77555 79781\n",
      " 88166 89918 89941 89965 89989 90017 90046 90074 91776 91801]\n",
      "[51677 51693 51694 51709 51727 51745 51761 53660 53661 53685 53686 53704\n",
      " 53705 53706 53724 53725 53743 53763 53783 53784 55973 56000 56001 56029\n",
      " 56030 56058 56089 56120 58567 58600 58601 58633 58634 58669 58702 58739\n",
      " 61245 61276 61342 67387 67463 69578 69610 69642 69643 69677 69712 69748\n",
      " 69749 69785 69786 72192 72223 72256 72257 72291 72327 72363 72400 72401\n",
      " 74982 75014 75047 75077 77555 77577 77600 79801 79822 81771 81789 86482\n",
      " 86500 86501 86524 86525 86549 86550 86571 88166 89965 89989 90017 91776\n",
      " 91801]\n",
      "[58702]\n",
      "[61376 88166]\n",
      "[]\n",
      "[]\n",
      "[]\n",
      "[]\n",
      "[]\n",
      "[]\n",
      "[]\n",
      "[]\n",
      "[]\n",
      "[37412 39109 39132 39154 39174 39195 39222 39249 40963 40986 41009 41010\n",
      " 41032 42931 42957 42982]\n",
      "[]\n",
      "[]\n",
      "[40963 40986 41009 41032 42813 42833 44696 44763 51745 51761 51779 51798\n",
      " 51822 79900 81836 81851 81866]\n",
      "[35429 35453 35475 35497 37261 37283 37304 37324 37343 39109 39132 39154\n",
      " 39174 39175 39176 39195 39196 39197 39222 39249 40919 40941 40942 40963\n",
      " 40964 40965 40986 40987 40988 41009 41010 41011 41032 41033 41034 41035\n",
      " 41060 41061 42813 42814 42815 42833 42834 42835 42854 42855 42856 42877\n",
      " 42878 42879 42905 42906 42907 42931 42932 42933 42957 42958 42959 42982\n",
      " 44652 44672 44696 44697 44720 44721 44742 44763 44764 44784 49912 49924\n",
      " 49936 56000 56029 58633 58668 58739 61309 61342 61376 67387 67388 69549\n",
      " 69550 69578 69579 69580 69610 69642 69643 69677 72162 72192 72193 72194\n",
      " 72223 72256 72257 72291 74918 74950 74982 74983 75014 75047 77530 77555\n",
      " 77556 77577 77578 77600 79761 79781 79782 79801 79802 79822 81771 81789\n",
      " 81806 81822 81836 81851]\n",
      "[]\n",
      "[]\n",
      "[39174 39195 41009 41032 42877 42905 42931 42957 44673 44696 44697 44698\n",
      " 44720 44721 44722 44742 44763 44784 88127 89941 89965 91776 91777 91801\n",
      " 93711]\n",
      "[39132 39154 39174 39175 39195 39196 39222 39249 40963 40986 41009 41010\n",
      " 41032 41033 41060 41087 42813 42833 42854 42877 42878 42905 42906 42931\n",
      " 42932 42957 42958 42982 44652 44672 44673 44696 44697 44698 44720 44721\n",
      " 44722 44742 44763 86524 86549 86550 86571 88127 88145 88166 88167 88190\n",
      " 89895 89918 89919 89941 89965 89989 91776 91777 91801 91802 91825 91848\n",
      " 93686 93711 95668]\n",
      "[39154 39174 39195 39222 39249 40963 40986 41009 41032 42877 42905 42931\n",
      " 42957 44696 44697 44720 44721 88127 89941 89965 91776 91801 93711 93781]\n",
      "[42877 42905 42931 42957 44720]\n",
      "[40986 41009 41032 44763 44784]\n",
      "[42877 42905 43035]\n",
      "[  7157  29328  31495  33533  35429  35453  37261  37283  37304  37324\n",
      "  37343  39085  39109  39110  39132  39154  39174  39175  39195  39196\n",
      "  39197  39222  39249  40941  40963  40964  40965  40986  40987  40988\n",
      "  41009  41010  41011  41032  41033  41198  41227  42813  42833  42835\n",
      "  42854  42855  42856  42877  42878  42879  42880  42905  42906  42907\n",
      "  42908  42931  42932  42933  42934  42957  42958  42959  42960  42982\n",
      "  42983  42984  43009  43010  43035  43036  44652  44672  44673  44674\n",
      "  44696  44697  44698  44699  44720  44721  44722  44742  44743  44763\n",
      "  44764  44784  46309  48160  48172  49808  49821  49833  51593  51628\n",
      "  86524  86549  86550  86571  88127  88145  88166  88167  89895  89918\n",
      "  89919  89941  89942  89965  91776  91801  91802  91825  93686  93687\n",
      "  93711  93712  93736 117649]\n",
      "[44696 44720]\n",
      "[39154 39174 39195 39222 39249 40941 40986 41009 41010 41032 41033 41060\n",
      " 41087 41114 41198 42813 42814 42833 42834 42854 42855 42877 42878 42879\n",
      " 42905 42906 42907 42931 42932 42933 42957 42958 42959 42982 42983 43009\n",
      " 43035 43036 44652 44653 44672 44673 44674 44696 44697 44698 44699 44720\n",
      " 44721 44722 44742 44763 86549]\n",
      "[37324 37343 37365 39154 39174 39195 39222 40963 40964 40986 40987 41009\n",
      " 41010 41032 41033 41060 41087 41114 41141 42877 42905 42931 42957 44696\n",
      " 44720 44721 44742 44763 44784]\n",
      "[42931 42932 44696 44720]\n",
      "[39174 39195 41009 41032 42877 42905 42931 42957 44720]\n"
     ]
    }
   ],
   "source": [
    "# test to make sure they're the right size, they look ok, etc.\n",
    "import glob\n",
    "files = glob.glob('outputs/connectomes/s*')\n",
    "for f in files:\n",
    "    test = np.load(f)\n",
    "    print(np.unique(np.where(np.isnan(test))[0]))"
   ]
  },
  {
   "cell_type": "code",
   "execution_count": 56,
   "metadata": {},
   "outputs": [
    {
     "data": {
      "text/plain": [
       "array([40919, 40941, 40963, 40964, 42814, 42815, 42834, 42835, 42855,\n",
       "       42856, 42880, 42931, 42957, 42982, 42983, 43009, 44652, 44672,\n",
       "       44673, 44696, 44697, 44698, 44720, 44721, 44722, 44742, 44743,\n",
       "       44763, 44764, 44784, 48227, 48239, 48253, 49879, 49891, 49902,\n",
       "       51661, 51677, 51693, 51709, 51710, 53704, 53724, 53743, 56058,\n",
       "       56089, 56120, 58702, 58703, 58739, 58740, 58741, 58777, 61376,\n",
       "       61412, 61449, 63799, 63831, 63895, 65666, 65683, 65730, 67433,\n",
       "       67463, 69677, 69678, 69712, 69748, 69749, 72291, 72363, 75014,\n",
       "       75047, 77600], dtype=int64)"
      ]
     },
     "execution_count": 56,
     "metadata": {},
     "output_type": "execute_result"
    }
   ],
   "source": [
    "test = np.load('outputs/connectomes\\\\sub-s03_ses-02_connectome.npy')\n",
    "idx = np.unique(np.where(np.isnan(test))[0]) # these are the voxels that we struggled with. why?\n",
    "idx"
   ]
  },
  {
   "cell_type": "code",
   "execution_count": 60,
   "metadata": {},
   "outputs": [
    {
     "name": "stderr",
     "output_type": "stream",
     "text": [
      "c:\\Users\\ciyer\\miniconda3\\envs\\lab\\Lib\\site-packages\\joblib\\memory.py:349: FutureWarning: The default strategy for standardize is currently 'zscore' which incorrectly uses population std to calculate sample zscores. The new strategy 'zscore_sample' corrects this behavior by using the sample std. In release 0.13, the default strategy will be replaced by the new strategy and the 'zscore' option will be removed. Please use 'zscore_sample' instead.\n",
      "  return self.func(*args, **kwargs)\n"
     ]
    }
   ],
   "source": [
    "from connectivity import load_data_one_session, get_parcellation, get_gm_mask\n",
    "f = 'data/rest/sub-s03_ses-02_task-rest_run-1_space-MNI_desc-optcomDenoised_bold.nii.gz'\n",
    "c = 'data/confounds/sub-s03_ses-02_task-rest_run-1_desc-confounds_timeseries.tsv'\n",
    "\n",
    "parcel_labels, parcel_map, parcel_mask = get_parcellation(schaefer_n_rois = 400, resample_target = nib.load(f) )\n",
    "\n",
    "voxel_data, parcel_data = load_data_one_session(f,c, parcel_labels, parcel_map, parcel_mask)\n",
    "\n",
    "# connectome = compute_fc_one_session(voxel_data, parcel_data, zscore=True)"
   ]
  },
  {
   "cell_type": "code",
   "execution_count": 86,
   "metadata": {},
   "outputs": [],
   "source": [
    "gm_mask = math_img('img >= 0.5', img=nib.load('data/templates/tpl-MNI152NLin2009cAsym_res-02_label-GM_probseg.nii.gz'))\n",
    "new_mask = math_img('img1 * img2', img1 = gm_mask, img2 = parcel_mask) # gets the intersection of the two"
   ]
  },
  {
   "cell_type": "code",
   "execution_count": null,
   "metadata": {},
   "outputs": [],
   "source": [
    "\n",
    "\n",
    "masker_args = {\n",
    "    'standardize': 'zscore_sample', # ?\n",
    "    'n_jobs': 32,\n",
    "}\n",
    "\n",
    "voxel_masker = NiftiMasker(\n",
    "    mask_img = parcel_mask, # CRUCIAL: need this to be the case so we can know which parcel each voxel belongs to later\n",
    "    **masker_args\n",
    ")\n",
    "voxel_data = voxel_masker.fit_transform(f, confounds = c)"
   ]
  }
 ],
 "metadata": {
  "kernelspec": {
   "display_name": "lab",
   "language": "python",
   "name": "python3"
  },
  "language_info": {
   "codemirror_mode": {
    "name": "ipython",
    "version": 3
   },
   "file_extension": ".py",
   "mimetype": "text/x-python",
   "name": "python",
   "nbconvert_exporter": "python",
   "pygments_lexer": "ipython3",
   "version": "3.11.3"
  },
  "orig_nbformat": 4
 },
 "nbformat": 4,
 "nbformat_minor": 2
}
