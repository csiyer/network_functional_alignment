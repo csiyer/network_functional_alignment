{
 "cells": [
  {
   "cell_type": "markdown",
   "metadata": {},
   "source": [
    "To-do:\n",
    "- Run connectivity on 5 rest subjects (adjust parallelization as needed)\n",
    "- Assess reliability (permutation tests if not obvious)\n",
    "- Run averaging and SRM code\n",
    "- Figure out task decoding and write task_decoding.py\n",
    "\n",
    "\n",
    "To think about:\n",
    "- Searchlights instead of parcels as connectivity targets, or as SRM boundaries\n",
    "- Distance as SRM penalty instead of parcelwise\n",
    "- DiFuMo atlas instead of Schaefer?\n",
    "- Reliability.py: permutation tests?\n",
    "- Write task_decoding.py"
   ]
  },
  {
   "cell_type": "code",
   "execution_count": null,
   "metadata": {},
   "outputs": [],
   "source": [
    "import glob\n",
    "import numpy as np\n",
    "import nibabel as nib\n",
    "from nilearn import datasets\n",
    "from nilearn.image import resample_img, math_img\n",
    "from nilearn.maskers import NiftiMasker, NiftiLabelsMasker\n",
    "from joblib import Parallel, delayed\n",
    "from math import tanh\n",
    "from scipy.stats import pearsonr"
   ]
  },
  {
   "cell_type": "code",
   "execution_count": 2,
   "metadata": {},
   "outputs": [],
   "source": [
    "from sherlock.sherlock_connectivity import load_data_one_session, get_parcellation, compute_fc_one_session"
   ]
  },
  {
   "cell_type": "code",
   "execution_count": 3,
   "metadata": {},
   "outputs": [
    {
     "name": "stderr",
     "output_type": "stream",
     "text": [
      "c:\\Users\\ciyer\\miniconda3\\envs\\lab\\Lib\\site-packages\\joblib\\memory.py:349: FutureWarning: The default strategy for standardize is currently 'zscore' which incorrectly uses population std to calculate sample zscores. The new strategy 'zscore_sample' corrects this behavior by using the sample std. In release 0.13, the default strategy will be replaced by the new strategy and the 'zscore' option will be removed. Please use 'zscore_sample' instead.\n",
      "  return self.func(*args, **kwargs)\n"
     ]
    }
   ],
   "source": [
    "f = 'data/rest/sub-s03_ses-02_task-rest_run-1_space-MNI_desc-optcomDenoised_bold.nii.gz'\n",
    "c = 'data/confounds/sub-s03_ses-02_task-rest_run-1_desc-confounds_timeseries.tsv'\n",
    "\n",
    "\n",
    "parcel_labels, parcel_map, parcel_mask = get_parcellation(schaefer_n_rois = 400, resample_target = nib.load(f)) \n",
    "voxel_data, parcel_data = load_data_one_session(f,c, parcel_labels, parcel_map, parcel_mask)"
   ]
  },
  {
   "cell_type": "code",
   "execution_count": null,
   "metadata": {},
   "outputs": [],
   "source": [
    "# TO-DO!!!\n",
    "\n",
    "# 1. make it faster\n",
    "# 2. exclude ones already done\n",
    "# 3. run it again"
   ]
  },
  {
   "cell_type": "code",
   "execution_count": null,
   "metadata": {},
   "outputs": [],
   "source": [
    "vtest = voxel_data[:, 0:100]\n",
    "ptest = parcel_data[:, 0:40]"
   ]
  },
  {
   "cell_type": "code",
   "execution_count": null,
   "metadata": {},
   "outputs": [
    {
     "name": "stdout",
     "output_type": "stream",
     "text": [
      "(100, 40)\n"
     ]
    },
    {
     "data": {
      "text/plain": [
       "array([[0.75871411, 0.75510484, 0.73408039, 0.7340864 , 0.72387146],\n",
       "       [0.75932942, 0.75591503, 0.73147384, 0.73164462, 0.72159261],\n",
       "       [0.74215049, 0.73570163, 0.74995086, 0.74990275, 0.73393837],\n",
       "       [0.73890848, 0.73206347, 0.75625313, 0.75603601, 0.73635248],\n",
       "       [0.759307  , 0.75491649, 0.73327964, 0.73356438, 0.7231754 ]])"
      ]
     },
     "execution_count": 6,
     "metadata": {},
     "output_type": "execute_result"
    }
   ],
   "source": [
    "connectome = compute_fc_one_session(vtest, ptest, zscore=True)\n",
    "print(connectome.shape)\n",
    "connectome[0:5, 0:5]"
   ]
  },
  {
   "cell_type": "code",
   "execution_count": null,
   "metadata": {},
   "outputs": [
    {
     "data": {
      "text/plain": [
       "array([[0.75871411, 0.75510484, 0.73408039, 0.7340864 , 0.72387146],\n",
       "       [0.75932942, 0.75591503, 0.73147384, 0.73164462, 0.72159261],\n",
       "       [0.74215049, 0.73570163, 0.74995086, 0.74990275, 0.73393837],\n",
       "       [0.73890848, 0.73206347, 0.75625313, 0.75603601, 0.73635248],\n",
       "       [0.759307  , 0.75491649, 0.73327964, 0.73356438, 0.7231754 ]])"
      ]
     },
     "execution_count": 14,
     "metadata": {},
     "output_type": "execute_result"
    }
   ],
   "source": [
    "def correlate_one_pair(i, j):\n",
    "    return tanh(pearsonr(vtest[:,i], ptest[:,j])[0])\n",
    "def correlate_one_voxel(i):\n",
    "   return [correlate_one_pair(i,j) for j in range(ptest.shape[1])]\n",
    "\n",
    "ctest = Parallel(n_jobs = 4)(\n",
    "    delayed(correlate_one_voxel)(i) for i in range(vtest.shape[1])\n",
    ")\n",
    "\n",
    "ctest = np.vstack(ctest)\n",
    "ctest[0:5,0:5]"
   ]
  },
  {
   "cell_type": "code",
   "execution_count": null,
   "metadata": {},
   "outputs": [
    {
     "data": {
      "text/plain": [
       "array([[0.75871411, 0.75510484, 0.73408039, 0.7340864 , 0.72387146],\n",
       "       [0.75932942, 0.75591503, 0.73147384, 0.73164462, 0.72159261],\n",
       "       [0.74215049, 0.73570163, 0.74995086, 0.74990275, 0.73393837],\n",
       "       [0.73890848, 0.73206347, 0.75625313, 0.75603601, 0.73635248],\n",
       "       [0.759307  , 0.75491649, 0.73327964, 0.73356438, 0.7231754 ]])"
      ]
     },
     "execution_count": 13,
     "metadata": {},
     "output_type": "execute_result"
    }
   ],
   "source": [
    "def correlate_one_voxel(i):\n",
    "   corrs = np.corrcoef(vtest[:,i], ptest, rowvar=False)[0, 1:]\n",
    "   return [tanh(c) for c in corrs]\n",
    "\n",
    "ctest = Parallel(n_jobs = 4)(\n",
    "    delayed(correlate_one_voxel)(i) for i in range(vtest.shape[1])\n",
    ")\n",
    "\n",
    "ctest = np.vstack(ctest)\n",
    "ctest[0:5,0:5]"
   ]
  },
  {
   "cell_type": "code",
   "execution_count": null,
   "metadata": {},
   "outputs": [],
   "source": []
  }
 ],
 "metadata": {
  "kernelspec": {
   "display_name": "lab",
   "language": "python",
   "name": "python3"
  },
  "language_info": {
   "codemirror_mode": {
    "name": "ipython",
    "version": 3
   },
   "file_extension": ".py",
   "mimetype": "text/x-python",
   "name": "python",
   "nbconvert_exporter": "python",
   "pygments_lexer": "ipython3",
   "version": "3.11.3"
  },
  "orig_nbformat": 4
 },
 "nbformat": 4,
 "nbformat_minor": 2
}
