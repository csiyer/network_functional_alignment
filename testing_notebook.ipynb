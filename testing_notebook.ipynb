{
 "cells": [
  {
   "cell_type": "markdown",
   "metadata": {},
   "source": [
    "To-do:\n",
    "- Run connectivity on 5 rest subjects (adjust parallelization as needed)\n",
    "- Assess reliability (permutation tests if not obvious)\n",
    "- Run averaging and SRM code\n",
    "- Figure out task decoding and write task_decoding.py\n",
    "\n",
    "\n",
    "To think about:\n",
    "- Searchlights instead of parcels as connectivity targets, or as SRM boundaries\n",
    "- Distance as SRM penalty instead of parcelwise\n",
    "- DiFuMo atlas instead of Schaefer?\n",
    "- Reliability.py: permutation tests?\n",
    "- Write task_decoding.py"
   ]
  },
  {
   "cell_type": "code",
   "execution_count": 1,
   "metadata": {},
   "outputs": [],
   "source": [
    "import glob\n",
    "import numpy as np\n",
    "import nibabel as nib\n",
    "from nilearn import datasets\n",
    "from nilearn.image import resample_img, math_img\n",
    "from nilearn.maskers import MultiNiftiMasker, MultiNiftiLabelsMasker"
   ]
  },
  {
   "cell_type": "code",
   "execution_count": 1,
   "metadata": {},
   "outputs": [],
   "source": [
    "from connectivity import load_data"
   ]
  },
  {
   "cell_type": "code",
   "execution_count": 2,
   "metadata": {},
   "outputs": [],
   "source": [
    "files = ['data/rest/sub-s03_ses-01_task-rest_run-1_space-MNI_desc-optcomDenoised_bold.nii.gz']\n",
    "confound_files = ['data/confounds/sub-s03_ses-01_task-rest_run-1_desc-confounds_timeseries.tsv']"
   ]
  },
  {
   "cell_type": "code",
   "execution_count": null,
   "metadata": {},
   "outputs": [],
   "source": []
  }
 ],
 "metadata": {
  "kernelspec": {
   "display_name": "lab",
   "language": "python",
   "name": "python3"
  },
  "language_info": {
   "codemirror_mode": {
    "name": "ipython",
    "version": 3
   },
   "file_extension": ".py",
   "mimetype": "text/x-python",
   "name": "python",
   "nbconvert_exporter": "python",
   "pygments_lexer": "ipython3",
   "version": "3.11.3"
  },
  "orig_nbformat": 4
 },
 "nbformat": 4,
 "nbformat_minor": 2
}
