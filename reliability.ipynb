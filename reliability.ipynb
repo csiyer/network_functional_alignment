{
 "cells": [
  {
   "cell_type": "markdown",
   "metadata": {},
   "source": [
    "This notebook assesses the within-subject reliability of functional connectivity matrices \n",
    "created in connectivity.py (one for each session/subject, 12 sessions/subject).\n",
    "\n",
    "Similarity measure: Pearson spatial correlation (?)\n",
    "From Finn et al. 2015 Connectome Fingerprinting \n",
    "https://www.nature.com/articles/nn.4135\n",
    "\n",
    "\n",
    "3 strategies:\n",
    "- Session-by-session (compare similarity of all pairs of connectomes, do we see off-diagonal subject-specific structure?)\n",
    "- Intra-class correlation coefficient\n",
    "- Split-half (split each subject's data in half, average, and then compare. Somehow.)\n",
    "\n",
    "Author: Chris Iyer, updated 8/11/2023"
   ]
  },
  {
   "cell_type": "markdown",
   "metadata": {},
   "source": [
    "### Load libraries and connectomes"
   ]
  },
  {
   "cell_type": "code",
   "execution_count": 1,
   "metadata": {},
   "outputs": [],
   "source": [
    "import numpy as np\n",
    "import glob\n",
    "import seaborn as sns\n",
    "sns.set(palette=\"colorblind\")\n",
    "import matplotlib.pyplot as plt\n",
    "from pingouin import intraclass_corr\n",
    "import pandas as pd"
   ]
  },
  {
   "cell_type": "code",
   "execution_count": 26,
   "metadata": {},
   "outputs": [],
   "source": [
    "# load connectomes\n",
    "def load_connectomes():\n",
    "\n",
    "    data_dict = {}\n",
    "    for sub in np.unique([f[f.find('sub'):f.find('sub')+7] for f in glob.glob('outputs/connectomes/*ses*')]):\n",
    "        data_dict[sub] = {}\n",
    "        for ses in np.unique([f[f.find('ses'):f.find('ses')+6] for f in glob.glob(f'outputs/connectomes/*{sub}*ses*')]):\n",
    "            curr = np.load(glob.glob(f'outputs/connectomes/*{sub}_{ses}*')[0])\n",
    "            data_dict[sub][ses] = {\n",
    "                # 'connectome': curr, # save memory without this\n",
    "                'connectome_flat': curr.flatten()\n",
    "            }\n",
    "\n",
    "    # connectomes_flat = []\n",
    "    # for sub in data_dict.keys():\n",
    "    #     for ses, data in data_dict[sub].items():\n",
    "    #         connectomes_flat.append(data['connectome_flat'])\n",
    "    \n",
    "    return data_dict\n",
    "\n",
    "def load_connectomes_flat():\n",
    "    connectomes_flat = []\n",
    "    for sub in np.unique([f[f.find('sub'):f.find('sub')+7] for f in glob.glob('outputs/connectomes/*ses*')]):\n",
    "        for ses in np.unique([f[f.find('ses'):f.find('ses')+6] for f in glob.glob(f'outputs/connectomes/*{sub}*ses*')]):\n",
    "            connectomes_flat.append( np.load(glob.glob(f'outputs/connectomes/*{sub}_{ses}*')[0]) )\n",
    "    return np.array(connectomes_flat)"
   ]
  },
  {
   "cell_type": "code",
   "execution_count": 13,
   "metadata": {},
   "outputs": [],
   "source": [
    "# data_dict, connectomes_flat = load_connectomes()\n",
    "data_dict = load_connectomes() \n",
    "n_subjects, n_sessions = len(data_dict.keys()), len(data_dict['sub-s03'].keys())"
   ]
  },
  {
   "cell_type": "markdown",
   "metadata": {},
   "source": [
    "### 1. Compare similarity session-by-session of all pairs of connectomes\n",
    "Do we see off-diagonal subject-specific structure?"
   ]
  },
  {
   "cell_type": "code",
   "execution_count": 22,
   "metadata": {},
   "outputs": [
    {
     "ename": "MemoryError",
     "evalue": "Unable to allocate 23.6 GiB for an array with shape (60, 52812800) and data type float64",
     "output_type": "error",
     "traceback": [
      "\u001b[1;31m---------------------------------------------------------------------------\u001b[0m",
      "\u001b[1;31mMemoryError\u001b[0m                               Traceback (most recent call last)",
      "Cell \u001b[1;32mIn[22], line 2\u001b[0m\n\u001b[0;32m      1\u001b[0m \u001b[39m# calculate correlation matrix of connectivity vectors\u001b[39;00m\n\u001b[1;32m----> 2\u001b[0m similarity_matrix \u001b[39m=\u001b[39m np\u001b[39m.\u001b[39;49mcorrcoef(connectomes_flat)\n\u001b[0;32m      4\u001b[0m \u001b[39m# plot the similarity matrix \u001b[39;00m\n\u001b[0;32m      5\u001b[0m fig, ax \u001b[39m=\u001b[39m plt\u001b[39m.\u001b[39msubplots(\u001b[39m1\u001b[39m, \u001b[39m1\u001b[39m, figsize\u001b[39m=\u001b[39m(\u001b[39m10\u001b[39m,\u001b[39m8\u001b[39m))\n",
      "File \u001b[1;32m<__array_function__ internals>:200\u001b[0m, in \u001b[0;36mcorrcoef\u001b[1;34m(*args, **kwargs)\u001b[0m\n",
      "File \u001b[1;32mc:\\Users\\ciyer\\miniconda3\\envs\\lab\\Lib\\site-packages\\numpy\\lib\\function_base.py:2846\u001b[0m, in \u001b[0;36mcorrcoef\u001b[1;34m(x, y, rowvar, bias, ddof, dtype)\u001b[0m\n\u001b[0;32m   2842\u001b[0m \u001b[39mif\u001b[39;00m bias \u001b[39mis\u001b[39;00m \u001b[39mnot\u001b[39;00m np\u001b[39m.\u001b[39m_NoValue \u001b[39mor\u001b[39;00m ddof \u001b[39mis\u001b[39;00m \u001b[39mnot\u001b[39;00m np\u001b[39m.\u001b[39m_NoValue:\n\u001b[0;32m   2843\u001b[0m     \u001b[39m# 2015-03-15, 1.10\u001b[39;00m\n\u001b[0;32m   2844\u001b[0m     warnings\u001b[39m.\u001b[39mwarn(\u001b[39m'\u001b[39m\u001b[39mbias and ddof have no effect and are deprecated\u001b[39m\u001b[39m'\u001b[39m,\n\u001b[0;32m   2845\u001b[0m                   \u001b[39mDeprecationWarning\u001b[39;00m, stacklevel\u001b[39m=\u001b[39m\u001b[39m3\u001b[39m)\n\u001b[1;32m-> 2846\u001b[0m c \u001b[39m=\u001b[39m cov(x, y, rowvar, dtype\u001b[39m=\u001b[39;49mdtype)\n\u001b[0;32m   2847\u001b[0m \u001b[39mtry\u001b[39;00m:\n\u001b[0;32m   2848\u001b[0m     d \u001b[39m=\u001b[39m diag(c)\n",
      "File \u001b[1;32m<__array_function__ internals>:200\u001b[0m, in \u001b[0;36mcov\u001b[1;34m(*args, **kwargs)\u001b[0m\n",
      "File \u001b[1;32mc:\\Users\\ciyer\\miniconda3\\envs\\lab\\Lib\\site-packages\\numpy\\lib\\function_base.py:2616\u001b[0m, in \u001b[0;36mcov\u001b[1;34m(m, y, rowvar, bias, ddof, fweights, aweights, dtype)\u001b[0m\n\u001b[0;32m   2612\u001b[0m     \u001b[39mraise\u001b[39;00m \u001b[39mValueError\u001b[39;00m(\n\u001b[0;32m   2613\u001b[0m         \u001b[39m\"\u001b[39m\u001b[39mddof must be integer\u001b[39m\u001b[39m\"\u001b[39m)\n\u001b[0;32m   2615\u001b[0m \u001b[39m# Handles complex arrays too\u001b[39;00m\n\u001b[1;32m-> 2616\u001b[0m m \u001b[39m=\u001b[39m np\u001b[39m.\u001b[39;49masarray(m)\n\u001b[0;32m   2617\u001b[0m \u001b[39mif\u001b[39;00m m\u001b[39m.\u001b[39mndim \u001b[39m>\u001b[39m \u001b[39m2\u001b[39m:\n\u001b[0;32m   2618\u001b[0m     \u001b[39mraise\u001b[39;00m \u001b[39mValueError\u001b[39;00m(\u001b[39m\"\u001b[39m\u001b[39mm has more than 2 dimensions\u001b[39m\u001b[39m\"\u001b[39m)\n",
      "\u001b[1;31mMemoryError\u001b[0m: Unable to allocate 23.6 GiB for an array with shape (60, 52812800) and data type float64"
     ]
    }
   ],
   "source": [
    "# calculate correlation matrix of connectivity vectors\n",
    "similarity_matrix = np.corrcoef(connectomes_flat)\n",
    "\n",
    "# plot the similarity matrix \n",
    "fig, ax = plt.subplots(1, 1, figsize=(10,8))\n",
    "\n",
    "sns.heatmap(similarity_matrix, ax=ax)\n",
    "\n",
    "# Add lines to box off every num_ses entries (each subject)\n",
    "for i in range(0, similarity_matrix.shape[0], n_sessions):\n",
    "    ax.axhline(i, color='white', linewidth=2)\n",
    "    ax.axvline(i, color='white', linewidth=2)\n",
    "\n",
    "xtick_labels = list(data_dict.keys())\n",
    "xtick_positions = np.arange(n_sessions/2, similarity_matrix.shape[1], n_sessions)\n",
    "ax.set_xticks(xtick_positions)\n",
    "ax.set_xticklabels(xtick_labels)\n",
    "ax.set_yticks(xtick_positions)\n",
    "ax.set_yticklabels(xtick_labels)\n",
    "ax.set_title(\"Session-wise Sonnectivity Similarity Matrix\")\n",
    "plt.show()"
   ]
  },
  {
   "cell_type": "markdown",
   "metadata": {},
   "source": [
    "### 2. Intra-class Correlation Coefficient"
   ]
  },
  {
   "cell_type": "code",
   "execution_count": 5,
   "metadata": {},
   "outputs": [
    {
     "name": "stdout",
     "output_type": "stream",
     "text": [
      "Description    Single random raters\n",
      "ICC                        0.036539\n",
      "F                          1.158656\n",
      "df1                               4\n",
      "df2                              12\n",
      "pval                       0.376525\n",
      "CI95%                 [-0.21, 0.69]\n",
      "Name: ICC2, dtype: object\n"
     ]
    }
   ],
   "source": [
    "data = np.array(connectomes_flat)\n",
    "data_long = pd.DataFrame(data.flatten(), columns=['connectivity_values'])\n",
    "data_long['subjects'] = np.repeat(range(n_subjects), n_sessions*data.shape[1]) \n",
    "data_long['sessions'] = np.tile(np.repeat(range(n_sessions), data.shape[1]), n_subjects)  # 12 sessions for each subject\n",
    "\n",
    "icc = intraclass_corr(data=data_long, targets='subjects', raters='sessions', ratings='connectivity_values').set_index('Type')\n",
    "print(icc.loc['ICC2'])\n"
   ]
  },
  {
   "cell_type": "markdown",
   "metadata": {},
   "source": [
    "### 3. Split-half reliability\n",
    "Procedure:\n",
    "1. Split every subject's sessions randomly into 2 groups of 6 sessions\n",
    "2. Average within a group (now we have 2 connectomes per subject)\n",
    "3. Calculate the correlation of each to its within-subject pair\n",
    "4. Calculate the correlation of each to all the others, and average\n",
    "5. Iterate steps 1-4 1000 times and save all the values"
   ]
  },
  {
   "cell_type": "code",
   "execution_count": 6,
   "metadata": {},
   "outputs": [],
   "source": [
    "n_iter = 1000\n",
    "avg_within_sub_corr = []\n",
    "avg_across_sub_corr = []\n",
    "\n",
    "for i_iter in range(n_iter):\n",
    "\n",
    "    # split data into halves and calculate the mean of the half\n",
    "    split_dict = {} # for storing values during these calculations\n",
    "\n",
    "    for sub in data_dict.keys():\n",
    "        split_dict[sub] = {}\n",
    "        rand_ses = list(np.random.permutation(list(data_dict[sub].keys())))\n",
    "        group1data = []\n",
    "        group2data = []\n",
    "\n",
    "        for ses, data in data_dict[sub].items():\n",
    "            if rand_ses.index(ses) > len(rand_ses)/2-1:\n",
    "                # if in the second half of randomized list\n",
    "                group1data.append(data['connectome_flat'])\n",
    "            else:\n",
    "                group2data.append(data['connectome_flat'])\n",
    "        \n",
    "        split_dict[sub]['group1_mean'] = np.mean(group1data, axis=0)\n",
    "        split_dict[sub]['group2_mean'] = np.mean(group2data, axis=0)\n",
    "\n",
    "    # iterate again and calculate correlation with each other group\n",
    "    within_sub_corr = []\n",
    "    across_sub_corr = []\n",
    "    for sub in split_dict.keys():\n",
    "        # save correlation of that sub's two halves\n",
    "        within_sub_corr.append(np.corrcoef(split_dict[sub]['group1_mean'], split_dict[sub]['group2_mean']))\n",
    "\n",
    "        # calculate correlation of each of those to all others \n",
    "        for sub_two in split_dict.keys():\n",
    "            if sub_two != sub:\n",
    "                across_sub_corr.append(np.corrcoef(split_dict[sub]['group1_mean'], split_dict[sub_two]['group1_mean']))\n",
    "                across_sub_corr.append(np.corrcoef(split_dict[sub]['group1_mean'], split_dict[sub_two]['group2_mean']))\n",
    "                across_sub_corr.append(np.corrcoef(split_dict[sub]['group2_mean'], split_dict[sub_two]['group1_mean']))\n",
    "                across_sub_corr.append(np.corrcoef(split_dict[sub]['group2_mean'], split_dict[sub_two]['group2_mean']))\n",
    "\n",
    "    avg_within_sub_corr.append(np.mean(within_sub_corr))\n",
    "    avg_across_sub_corr.append(np.mean(across_sub_corr))"
   ]
  },
  {
   "cell_type": "code",
   "execution_count": 7,
   "metadata": {},
   "outputs": [
    {
     "data": {
      "image/png": "[encoded data removed]",
      "text/plain": [
       "<Figure size 640x480 with 1 Axes>"
      ]
     },
     "metadata": {},
     "output_type": "display_data"
    }
   ],
   "source": [
    "# plot the results\n",
    "fig, ax = plt.subplots(1,1)\n",
    "fig.suptitle('Within-subject vs. across-subject split-half connectome reliability across 1000 iterations')\n",
    "ax.boxplot(avg_within_sub_corr, positions=[1], patch_artist=True, boxprops=dict(facecolor='blue'), labels=['Within-subject'])\n",
    "ax.boxplot(avg_within_sub_corr, positions=[2], patch_artist=True, boxprops=dict(facecolor='red'), labels=['Across-subject'])\n",
    "ax.set_ylabel('Pearson r of split halves')\n",
    "ax.set_ylim(0,1)\n",
    "plt.show()"
   ]
  },
  {
   "cell_type": "markdown",
   "metadata": {},
   "source": [
    "### 4. Finally, average connectomes within subject and re-save (if they are reliable!)"
   ]
  },
  {
   "cell_type": "code",
   "execution_count": 8,
   "metadata": {},
   "outputs": [],
   "source": [
    "for sub in data_dict.keys():\n",
    "    connectome_avg = np.mean([data_dict[sub][ses]['connectome'] for ses in data_dict[sub].keys()], axis=0)\n",
    "    np.save(f\"outputs/connectomes/{sub}_connectome_avg.npy\", connectome_avg)"
   ]
  }
 ],
 "metadata": {
  "kernelspec": {
   "display_name": "lab",
   "language": "python",
   "name": "python3"
  },
  "language_info": {
   "codemirror_mode": {
    "name": "ipython",
    "version": 3
   },
   "file_extension": ".py",
   "mimetype": "text/x-python",
   "name": "python",
   "nbconvert_exporter": "python",
   "pygments_lexer": "ipython3",
   "version": "3.11.3"
  },
  "orig_nbformat": 4
 },
 "nbformat": 4,
 "nbformat_minor": 2
}
