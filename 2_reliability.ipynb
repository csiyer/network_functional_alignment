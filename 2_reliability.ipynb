{
 "cells": [
  {
   "cell_type": "code",
   "execution_count": 1,
   "metadata": {},
   "outputs": [
    {
     "data": {
      "text/plain": [
       "\" \\nThis notebook assesses the within-subject reliability of functional connectivity matrices \\ncreated in connectivity.py (one for each session/subject, 12 sessions/subject).\\n\\nSimilarity measure: Pearson spatial correlation (?)\\nFrom Finn et al. 2015 Connectome Fingerprinting \\nhttps://www.nature.com/articles/nn.4135\\n\\n\\n2 strategies:\\n- Session-by-session (compare similarity of all pairs of connectomes, do we see off-diagonal subject-specific structure?)\\n- Intra-class correlation coefficient\\n- Split-half (split each subject's data in half, average, and then compare. Somehow.)\\n\\nAuthor: Chris Iyer\\nUpdated: 7/20/2023\\n\""
      ]
     },
     "execution_count": 1,
     "metadata": {},
     "output_type": "execute_result"
    }
   ],
   "source": [
    "\"\"\" \n",
    "This notebook assesses the within-subject reliability of functional connectivity matrices \n",
    "created in connectivity.py (one for each session/subject, 12 sessions/subject).\n",
    "\n",
    "Similarity measure: Pearson spatial correlation (?)\n",
    "From Finn et al. 2015 Connectome Fingerprinting \n",
    "https://www.nature.com/articles/nn.4135\n",
    "\n",
    "\n",
    "2 strategies:\n",
    "- Session-by-session (compare similarity of all pairs of connectomes, do we see off-diagonal subject-specific structure?)\n",
    "- Intra-class correlation coefficient\n",
    "- Split-half (split each subject's data in half, average, and then compare. Somehow.)\n",
    "\n",
    "Author: Chris Iyer\n",
    "Updated: 7/20/2023\n",
    "\"\"\""
   ]
  },
  {
   "cell_type": "markdown",
   "metadata": {},
   "source": [
    "### Load libraries and connectomes"
   ]
  },
  {
   "cell_type": "code",
   "execution_count": 39,
   "metadata": {},
   "outputs": [],
   "source": [
    "import numpy as np\n",
    "import glob\n",
    "import seaborn as sns\n",
    "sns.set(palette=\"colorblind\")\n",
    "import matplotlib.pyplot as plt\n",
    "from pingouin import intraclass_corr\n",
    "import pandas as pd"
   ]
  },
  {
   "cell_type": "code",
   "execution_count": 90,
   "metadata": {},
   "outputs": [],
   "source": [
    "# load connectomes\n",
    "sub_nums = np.unique([f[f.find('sub'):f.find('sub')+7] for f in glob.glob('output/connectomes/*ses*')])\n",
    "data_dict = {}\n",
    "\n",
    "for sub in sub_nums:\n",
    "    data_dict[sub] = {}\n",
    "    ses_nums = np.unique([f[f.find('ses'):f.find('ses')+7] for f in glob.glob(f'output/connectomes/*{sub}*ses*')])\n",
    "    \n",
    "    for ses in ses_nums:\n",
    "        curr = np.load(glob.glob(f'output/connectomes/*{sub}_{ses}*')[0])\n",
    "        data_dict[sub][ses] = {\n",
    "            # 'connectome': curr,\n",
    "            'connectome_flat': curr[np.triu_indices(curr)]\n",
    "        }\n",
    "\n",
    "# also create unlabeled lists\n",
    "connectomes_flat = []\n",
    "for sub in data_dict.keys():\n",
    "    for ses, data in data_dict[sub].items():\n",
    "        connectomes_flat.append(data['connectome_flat'])"
   ]
  },
  {
   "cell_type": "markdown",
   "metadata": {},
   "source": [
    "### 1. Compare similarity session-by-session of all pairs of connectomes\n",
    "Do we see off-diagonal subject-specific structure?"
   ]
  },
  {
   "cell_type": "code",
   "execution_count": null,
   "metadata": {},
   "outputs": [],
   "source": [
    "# calculate correlation matrix of connectivity vectors\n",
    "similarity_matrix = np.corrcoef(connectomes_flat)\n",
    "\n",
    "# plot the similarity matrix \n",
    "fig, ax = plt.subplots(1, 1, figsize=(10,8))\n",
    "\n",
    "sns.heatmap(similarity_matrix, ax=ax)\n",
    "\n",
    "# Add lines to box off every 10 entries\n",
    "for i in range(0, similarity_matrix.shape[0], 12):\n",
    "    ax.axhline(i, color='white', linewidth=2)\n",
    "    ax.axvline(i, color='white', linewidth=2)\n",
    "\n",
    "xtick_labels = [f[f.find('sub'):f.find('sub')+7] for f in files]\n",
    "xtick_positions = np.arange(6, similarity_matrix.shape[1], 12)\n",
    "ax.set_xticks(xtick_positions)\n",
    "ax.set_xticklabels(xtick_labels)\n",
    "ax.set_title(\"Similarity Matrix with Lines Boxing Off Every 10 Entries\")\n",
    "plt.show()"
   ]
  },
  {
   "cell_type": "markdown",
   "metadata": {},
   "source": [
    "### 2. Intra-class Correlation Coefficient"
   ]
  },
  {
   "cell_type": "code",
   "execution_count": null,
   "metadata": {},
   "outputs": [],
   "source": [
    "n_subs = len(np.unique([f[f.find('sub'):f.find('sub')+7] for f in glob.glob('outputs/connectomes/*ses*')]))\n",
    "n_sessions = 12"
   ]
  },
  {
   "cell_type": "code",
   "execution_count": 75,
   "metadata": {},
   "outputs": [
    {
     "name": "stdout",
     "output_type": "stream",
     "text": [
      "Description    Single random raters\n",
      "ICC                        0.007644\n",
      "F                          1.092752\n",
      "df1                               9\n",
      "df2                              99\n",
      "pval                        0.37512\n",
      "CI95%                 [-0.04, 0.18]\n",
      "Name: ICC2, dtype: object\n"
     ]
    }
   ],
   "source": [
    "n_subs = 10\n",
    "n_sessions = 12\n",
    "connectomes_flat = [np.random.rand(500) for i in range(120)]\n",
    "\n",
    "data = np.array(connectomes_flat)\n",
    "\n",
    "data_long = pd.DataFrame(data.flatten(), columns=['connectivity_values'])\n",
    "data_long['subjects'] = np.repeat(range(n_subs), n_sessions*data.shape[1]) \n",
    "data_long['sessions'] = np.tile(np.repeat(range(n_sessions), data.shape[1]), n_subs)  # 12 sessions for each subject\n",
    "\n",
    "icc = intraclass_corr(data=data_long, targets='subjects', raters='sessions', ratings='connectivity_values').set_index('Type')\n",
    "print(icc.loc['ICC2'])\n"
   ]
  },
  {
   "cell_type": "markdown",
   "metadata": {},
   "source": [
    "### 3. Split-half reliability\n",
    "Procedure:\n",
    "1. Split every subject's sessions randomly into 2 groups of 6 sessions\n",
    "2. Average within a group (now we have 2 connectomes per subject)\n",
    "3. Calculate the correlation of each to its within-subject pair\n",
    "4. Calculate the correlation of each to all the others, and average\n",
    "5. Iterate steps 1-4 1000 times and save all the values"
   ]
  },
  {
   "cell_type": "code",
   "execution_count": 144,
   "metadata": {},
   "outputs": [],
   "source": [
    "# dummy data to test on\n",
    "data_dict = {}\n",
    "for sub in ['sub-s01', 'sub-s02', 'sub-s03', 'sub-s04']:\n",
    "    data_dict[sub] = {}\n",
    "    for ses in ['ses-01', 'ses-02', 'ses-03', 'ses-04']:\n",
    "        data_dict[sub][ses] = {\n",
    "            'connectome_flat': np.random.rand(5)\n",
    "        }"
   ]
  },
  {
   "cell_type": "code",
   "execution_count": 150,
   "metadata": {},
   "outputs": [],
   "source": [
    "# split data into halves and calculate the mean of the half\n",
    "split_dict = {} # for storing values during these calculations\n",
    "for sub in data_dict.keys():\n",
    "    split_dict[sub] = {}\n",
    "    rand_ses = list(np.random.permutation(list(data_dict[sub].keys())))\n",
    "    group1data = []\n",
    "    group2data = []\n",
    "\n",
    "    for ses, data in data_dict[sub].items():\n",
    "        if rand_ses.index(ses) > len(rand_ses)/2-1:\n",
    "            # if in the second half of randomized list\n",
    "            group1data.append(data['connectome_flat'])\n",
    "        else:\n",
    "            group2data.append(data['connectome_flat'])\n",
    "    \n",
    "    split_dict[sub]['group1_mean'] = np.mean(group1data, axis=0)\n",
    "    split_dict[sub]['group2_mean'] = np.mean(group2data, axis=0)\n",
    "\n",
    "# iterate again and calculate correlation with each other group\n",
    "within_sub_corr = []\n",
    "across_sub_corr = []\n",
    "for sub in split_dict.keys():\n",
    "    # save correlation of that sub's two halves\n",
    "    within_sub_corr.append(np.corrcoef(split_dict[sub]['group1_mean'], split_dict[sub]['group2_mean']))\n",
    "\n",
    "    # calculate correlation of each of those to all others \n",
    "    for sub_two in split_dict.keys():\n",
    "        if sub_two != sub:\n",
    "            across_sub_corr.append(np.corrcoef(split_dict[sub]['group1_mean'], split_dict[sub_two]['group1_mean']))\n",
    "            across_sub_corr.append(np.corrcoef(split_dict[sub]['group1_mean'], split_dict[sub_two]['group2_mean']))\n",
    "            across_sub_corr.append(np.corrcoef(split_dict[sub]['group2_mean'], split_dict[sub_two]['group1_mean']))\n",
    "            across_sub_corr.append(np.corrcoef(split_dict[sub]['group2_mean'], split_dict[sub_two]['group2_mean']))"
   ]
  },
  {
   "cell_type": "code",
   "execution_count": 153,
   "metadata": {},
   "outputs": [
    {
     "data": {
      "text/plain": [
       "0.5041132516478345"
      ]
     },
     "execution_count": 153,
     "metadata": {},
     "output_type": "execute_result"
    }
   ],
   "source": [
    "np.mean(within_sub_corr)\n",
    "np.mean(across_sub_corr)"
   ]
  },
  {
   "cell_type": "code",
   "execution_count": 154,
   "metadata": {},
   "outputs": [],
   "source": [
    "n_iter = 1000\n",
    "avg_within_sub_corr = []\n",
    "avg_across_sub_corr = []\n",
    "\n",
    "for i_iter in range(n_iter):\n",
    "\n",
    "    # split data into halves and calculate the mean of the half\n",
    "    split_dict = {} # for storing values during these calculations\n",
    "    for sub in data_dict.keys():\n",
    "        split_dict[sub] = {}\n",
    "        rand_ses = list(np.random.permutation(list(data_dict[sub].keys())))\n",
    "        group1data = []\n",
    "        group2data = []\n",
    "\n",
    "        for ses, data in data_dict[sub].items():\n",
    "            if rand_ses.index(ses) > len(rand_ses)/2-1:\n",
    "                # if in the second half of randomized list\n",
    "                group1data.append(data['connectome_flat'])\n",
    "            else:\n",
    "                group2data.append(data['connectome_flat'])\n",
    "        \n",
    "        split_dict[sub]['group1_mean'] = np.mean(group1data, axis=0)\n",
    "        split_dict[sub]['group2_mean'] = np.mean(group2data, axis=0)\n",
    "\n",
    "    # iterate again and calculate correlation with each other group\n",
    "    within_sub_corr = []\n",
    "    across_sub_corr = []\n",
    "    for sub in split_dict.keys():\n",
    "        # save correlation of that sub's two halves\n",
    "        within_sub_corr.append(np.corrcoef(split_dict[sub]['group1_mean'], split_dict[sub]['group2_mean']))\n",
    "\n",
    "        # calculate correlation of each of those to all others \n",
    "        for sub_two in split_dict.keys():\n",
    "            if sub_two != sub:\n",
    "                across_sub_corr.append(np.corrcoef(split_dict[sub]['group1_mean'], split_dict[sub_two]['group1_mean']))\n",
    "                across_sub_corr.append(np.corrcoef(split_dict[sub]['group1_mean'], split_dict[sub_two]['group2_mean']))\n",
    "                across_sub_corr.append(np.corrcoef(split_dict[sub]['group2_mean'], split_dict[sub_two]['group1_mean']))\n",
    "                across_sub_corr.append(np.corrcoef(split_dict[sub]['group2_mean'], split_dict[sub_two]['group2_mean']))\n",
    "\n",
    "    avg_within_sub_corr.append(np.mean(within_sub_corr))\n",
    "    avg_across_sub_corr.append(np.mean(across_sub_corr))"
   ]
  },
  {
   "cell_type": "code",
   "execution_count": 164,
   "metadata": {},
   "outputs": [
    {
     "data": {
      "image/png": "[encoded data removed]",
      "text/plain": [
       "<Figure size 640x480 with 1 Axes>"
      ]
     },
     "metadata": {},
     "output_type": "display_data"
    }
   ],
   "source": [
    "# plot the results\n",
    "\n",
    "fig, ax = plt.subplots(1,1)\n",
    "fig.suptitle('Within-subject vs. across-subject split-half connectome reliability across 1000 iterations')\n",
    "ax.boxplot(avg_within_sub_corr, positions=[1], patch_artist=True, boxprops=dict(facecolor='blue'), labels=['Within-subject'])\n",
    "ax.boxplot(avg_within_sub_corr, positions=[2], patch_artist=True, boxprops=dict(facecolor='red'), labels=['Across-subject'])\n",
    "ax.set_ylabel('Pearson r of split halves')\n",
    "ax.set_ylim(0,1)\n",
    "plt.show()"
   ]
  }
 ],
 "metadata": {
  "kernelspec": {
   "display_name": "lab",
   "language": "python",
   "name": "python3"
  },
  "language_info": {
   "codemirror_mode": {
    "name": "ipython",
    "version": 3
   },
   "file_extension": ".py",
   "mimetype": "text/x-python",
   "name": "python",
   "nbconvert_exporter": "python",
   "pygments_lexer": "ipython3",
   "version": "3.11.3"
  },
  "orig_nbformat": 4
 },
 "nbformat": 4,
 "nbformat_minor": 2
}
