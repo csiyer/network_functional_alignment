{
 "cells": [
  {
   "cell_type": "markdown",
   "metadata": {},
   "source": [
    "# Current To-Do:\n",
    "- Conjunction analysis LOSO version\n",
    "\n",
    "Backburner questions:\n",
    "- XCP-D?\n",
    "- DiFuMo atlas instead of Schaefer?\n",
    "- Different SRM distance penalties (distance as penalty instead of parcelwise? Searchlights instead of parcels?)"
   ]
  },
  {
   "cell_type": "markdown",
   "metadata": {},
   "source": [
    "[ROADMAP DOC](https://docs.google.com/document/d/13P4QTHxrT5lZfCOXtN59xCKpJfnObtqh3uZkuRqPxR4/edit?pli=1#heading=h.2qncjqtc0b5j)"
   ]
  },
  {
   "cell_type": "markdown",
   "metadata": {},
   "source": [
    "# Testing"
   ]
  },
  {
   "cell_type": "code",
   "execution_count": null,
   "metadata": {},
   "outputs": [],
   "source": [
    "from contrast_map_checks.conjunction_analysis import *\n",
    "sub_files = load_all_filenames() \n",
    "parcel_map = load_parcel_map(n_dimensions = 100)\n",
    "task = 'flanker'\n",
    "loso_idx = 0\n",
    "loso_sub = list(sub_files.keys())[0]\n",
    "sub_list = list(sub_files.keys())\n",
    "data_list = [np.load(v['connectome']) for s,v in sub_files.items()]\n",
    "\n",
    "sub_transforms = compute_loso_srm(data_list, sub_list, loso_sub, parcel_map, n_features=50, save=False)\n",
    "contrast_maps = [mask(sub_files[s][task]) for s in sub_list]\n",
    "contrast_maps_srm = [\n",
    "    m if s == loso_sub else srm_and_loso_native(m, t, sub_transforms[loso_idx])\n",
    "    for s, m, t in zip(sub_list, contrast_maps, sub_transforms)\n",
    "]\n",
    "\n",
    "pairs = itertools.combinations(range(len(sub_list)), 2)\n",
    "print(\n",
    "    [dice_coef(contrast_maps[i], contrast_maps[j], threshold_val = threshold_val) for i,j in pairs]\n",
    ")\n",
    "print(\n",
    "    [dice_coef(contrast_maps_srm[i], contrast_maps_srm[j], threshold_val = threshold_val) for i,j in pairs]\n",
    ")\n",
    "print(\n",
    "    [pearsonr(contrast_maps[i], contrast_maps[j])[0] for i,j in pairs]\n",
    ")\n",
    "print(\n",
    "    [pearsonr(contrast_maps_srm[i], contrast_maps_srm[j])[0] for i,j in pairs]\n",
    ")"
   ]
  },
  {
   "cell_type": "code",
   "execution_count": null,
   "metadata": {},
   "outputs": [],
   "source": [
    "loso_idx = sub_list.index(loso_sub)\n",
    "loso_data = data_list[loso_idx]\n",
    "train_data = [d for i,d in enumerate(data_list) if i != loso_idx]\n",
    "temp_dir = '/scratch/users/csiyer/temp_dir'\n",
    "def single_parcel_srm(train_data, loso_data, parcel_map, parcel_label, n_features):\n",
    "    parcel_idxs = np.where(parcel_map == parcel_label)[0]\n",
    "    train_data_parcel = [d[parcel_idxs] for d in train_data]\n",
    "    srm = FastSRM(n_components=n_features, n_iter=20, n_jobs=1, aggregate='mean', temp_dir = temp_dir)\n",
    "    reduced_sr = srm.fit_transform(train_data_parcel)\n",
    "    srm.aggregate = None\n",
    "    srm.add_subjects([loso_data], reduced_sr)\n",
    "    return [np.load(x) for x in srm.basis_list], parcel_idxs # return list of all the transforms, which are saved to temp_dir\n",
    "\n",
    "srm_outputs = Parallel(n_jobs=-1)(\n",
    "    delayed(single_parcel_srm)(train_data, loso_data, parcel_map, parcel_label, 50) for parcel_label in np.sort(np.unique(parcel_map))\n",
    ")\n",
    "\n",
    "subject_transforms = [np.zeros((len(parcel_map), 50)) for _ in range(len(sub_list))] # empty initalize\n",
    "for sub_weights, parcel_idxs in srm_outputs: # for each parcel\n",
    "    for i,sub in enumerate(subject_transforms): # for each subject\n",
    "        sub[parcel_idxs,:] = sub_weights[i] # add those parcel's transformation values to that subject's transformation matrix\n",
    "\n",
    "# we need to reorder them to match the original sub_list. the loso_sub's transform is at the end, and we'll insert it at its original index\n",
    "subject_transforms.insert(loso_idx, subject_transforms.pop())\n"
   ]
  },
  {
   "cell_type": "code",
   "execution_count": null,
   "metadata": {},
   "outputs": [],
   "source": []
  }
 ],
 "metadata": {
  "kernelspec": {
   "display_name": "lab",
   "language": "python",
   "name": "python3"
  },
  "language_info": {
   "codemirror_mode": {
    "name": "ipython",
    "version": 3
   },
   "file_extension": ".py",
   "mimetype": "text/x-python",
   "name": "python",
   "nbconvert_exporter": "python",
   "pygments_lexer": "ipython3",
   "version": "3.11.3"
  },
  "orig_nbformat": 4
 },
 "nbformat": 4,
 "nbformat_minor": 2
}
