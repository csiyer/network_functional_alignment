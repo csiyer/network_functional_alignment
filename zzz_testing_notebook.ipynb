{
 "cells": [
  {
   "cell_type": "markdown",
   "metadata": {},
   "source": [
    "# Current To-Do:\n",
    "- Sanity checks on trial beta maps\n",
    "    Within-subject decoding\n",
    "    Contrast map averaging and comparison\n",
    "- Conjunction analysis\n",
    "\n",
    "Backburner questions:\n",
    "- XCP-D?\n",
    "- DiFuMo atlas instead of Schaefer?\n",
    "- RT adjustment of trial activity modeling\n",
    "- Different SRM distance penalties (distance as penalty instead of parcelwise? Searchlights instead of parcels?)"
   ]
  },
  {
   "cell_type": "markdown",
   "metadata": {},
   "source": [
    "# Testing"
   ]
  },
  {
   "cell_type": "code",
   "execution_count": null,
   "metadata": {},
   "outputs": [],
   "source": [
    "from task_decoding import *\n",
    "task = 'goNogo'\n",
    "correct_only = False\n",
    "subjects, data, labels = load_files(task, correct_only=correct_only)\n",
    "data_srm = srm_transform(data, subjects)\n",
    "task_aucs_srm, task_cms_srm = loso_cv(data_srm, labels, subjects)\n",
    "task_aucs_nosrm, task_cms_nosrm = loso_cv(data, labels, subjects)"
   ]
  }
 ],
 "metadata": {
  "kernelspec": {
   "display_name": "lab",
   "language": "python",
   "name": "python3"
  },
  "language_info": {
   "codemirror_mode": {
    "name": "ipython",
    "version": 3
   },
   "file_extension": ".py",
   "mimetype": "text/x-python",
   "name": "python",
   "nbconvert_exporter": "python",
   "pygments_lexer": "ipython3",
   "version": "3.11.3"
  },
  "orig_nbformat": 4
 },
 "nbformat": 4,
 "nbformat_minor": 2
}
