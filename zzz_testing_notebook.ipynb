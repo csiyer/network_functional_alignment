{
 "cells": [
  {
   "cell_type": "markdown",
   "metadata": {},
   "source": [
    "# Current To-Do:\n",
    "- Contrast map comparison\n",
    "- Conjunction analysis\n",
    "\n",
    "Backburner questions:\n",
    "- XCP-D?\n",
    "- DiFuMo atlas instead of Schaefer?\n",
    "- Different SRM distance penalties (distance as penalty instead of parcelwise? Searchlights instead of parcels?)"
   ]
  },
  {
   "cell_type": "markdown",
   "metadata": {},
   "source": [
    "[ROADMAP DOC](https://docs.google.com/document/d/13P4QTHxrT5lZfCOXtN59xCKpJfnObtqh3uZkuRqPxR4/edit?pli=1#heading=h.2qncjqtc0b5j)"
   ]
  },
  {
   "cell_type": "markdown",
   "metadata": {},
   "source": [
    "# Testing"
   ]
  },
  {
   "cell_type": "code",
   "execution_count": null,
   "metadata": {},
   "outputs": [],
   "source": [
    "import nibabel as nib\n",
    "PATH = '/oak/stanford/groups/russpold/data/network_grant/discovery_BIDS_21.0.1/derivatives/output_optcom_MNI/flanker_lev1_output/task_flanker_rtmodel_rt_centered/contrast_estimates/'\n",
    "testfile = 'sub-s43_task-flanker_contrast-incongruent - congruent_rtmodel-rt_centered_stat-fixed-effects_t-test.nii.gz'\n",
    "test = nib.load(PATH + testfile)\n",
    "\n",
    "testfile2 = 'sub-s19_task-flanker_contrast-incongruent - congruent_rtmodel-rt_centered_stat-fixed-effects_t-test.nii.gz'\n",
    "test2 = nib.load(PATH + testfile2)\n",
    "\n",
    "\n",
    "import itertools\n",
    "import numpy as np\n",
    "output = {}\n",
    "for task in ['flanker','spatialTS','cuedTS','directedForgetting','stopSignal','goNogo', 'shapeMatching', 'nBack']:\n",
    "    output[task] = {\n",
    "        'srm': {'all_overlap': [], 'all_dice': []},\n",
    "        'nosrm': {'all_overlap': [], 'all_dice': []}\n",
    "    }\n",
    "    subjects = ['sub-s01', 'sub-s02', 'sub-s03', 'sub-s04', 'sub-s05']\n",
    "\n",
    "    for sub1, sub2 in itertools.combinations(subjects, 2):\n",
    "        output[task]['nosrm']['all_overlap'].append(np.random.randint(0,10,5))\n",
    "        output[task]['nosrm']['all_dice'].append(np.random.randint(0,10,5))\n",
    "        output[task]['srm']['all_overlap'].append(np.random.randint(0,10,5))\n",
    "        output[task]['srm']['all_dice'].append(np.random.randint(0,10,5))\n",
    "\n",
    "    for method in ['srm', 'nosrm']:\n",
    "        output[task][method]['avg_overlap'] = np.mean(output[task][method]['all_overlap'])\n",
    "        output[task][method]['avg_dice'] = np.mean(output[task][method]['all_dice'])"
   ]
  }
 ],
 "metadata": {
  "kernelspec": {
   "display_name": "lab",
   "language": "python",
   "name": "python3"
  },
  "language_info": {
   "codemirror_mode": {
    "name": "ipython",
    "version": 3
   },
   "file_extension": ".py",
   "mimetype": "text/x-python",
   "name": "python",
   "nbconvert_exporter": "python",
   "pygments_lexer": "ipython3",
   "version": "3.11.3"
  },
  "orig_nbformat": 4
 },
 "nbformat": 4,
 "nbformat_minor": 2
}
